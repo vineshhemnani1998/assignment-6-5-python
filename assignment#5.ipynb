{
 "cells": [
  {
   "cell_type": "code",
   "execution_count": 12,
   "metadata": {},
   "outputs": [
    {
     "name": "stdout",
     "output_type": "stream",
     "text": [
      "Enter value to find Factorial:5\n",
      "Factorial of a 5 = 120\n"
     ]
    }
   ],
   "source": [
    "num= input(\"Enter value to find Factorial:\");\n",
    "num=int(num);\n",
    "def Factorial(num):\n",
    "    f=1;\n",
    "    if num<1:\n",
    "        print(\"please enter value that is greater then one\");\n",
    "    elif num>=1:\n",
    "        for i in range(1 ,num +1):\n",
    "           \n",
    "            f=f*i;\n",
    "        print(\"Factorial of a\", num , \"=\", f);\n",
    "    else:\n",
    "        print(\"Invalid value Enter\");\n",
    "Factorial(num);"
   ]
  },
  {
   "cell_type": "code",
   "execution_count": null,
   "metadata": {},
   "outputs": [],
   "source": [
    "#count uper case and lower case by function\n",
    "\n",
    "def countUpperLower(stns):\n",
    "    upper=0;\n",
    "    lower=0;\n",
    "    for i in stns:\n",
    "        if i>=\"A\" and i<=\"Z\":\n",
    "            upper +=1;\n",
    "        elif i>=\"a\" and i<=\"z\":\n",
    "            lower +=1;\n",
    "    print(\"Upper case\",upper);\n",
    "    print(\"Lower case\",lower);\n",
    "stns=input(\"Enter string:\");\n",
    "countUpperlower(stns);"
   ]
  },
  {
   "cell_type": "markdown",
   "metadata": {},
   "source": []
  },
  {
   "cell_type": "code",
   "execution_count": null,
   "metadata": {},
   "outputs": [],
   "source": [
    "List =[];\n",
    "n = int(input(\"Enter number of element you want to enter\"));\n",
    "for i in range(0, n):\n",
    "    num= int(input());\n",
    "    List.append(num)\n",
    "#print(list);\n",
    "def EvenNum(list):\n",
    "    for num in List:\n",
    "        if num % 2==0:\n",
    "            print(num, end =\",\");\n",
    "EvenNum(List);            "
   ]
  },
  {
   "cell_type": "code",
   "execution_count": null,
   "metadata": {},
   "outputs": [],
   "source": [
    "#chek the prime number\n",
    "num = int(input(\"Enter num to check it is prime or not:\"));\n",
    "def checkprime(num):\n",
    "    if num>1:\n",
    "        for i in range(2,num//2):\n",
    "            if(num % i)==0:\n",
    "                print(num, \"is not prime \");\n",
    "                break;\n",
    "                else:\n",
    "                    print(num, \"is a prime number\");\n",
    "                    else:\n",
    "                        print(num,\"is not a prime number\");\n",
    "checkprime(num);                        "
   ]
  },
  {
   "cell_type": "code",
   "execution_count": null,
   "metadata": {},
   "outputs": [],
   "source": [
    "def checkplan(string):\n",
    "    if(string==string[::-1]):\n",
    "        print(\"the string is a palindrome\")\n",
    "        else:\n",
    "            print(\"not a palindrome\")\n",
    "string= input(\"enter word to check is it palindrome:\");\n",
    "checkplan(string)"
   ]
  },
  {
   "cell_type": "code",
   "execution_count": null,
   "metadata": {},
   "outputs": [],
   "source": []
  }
 ],
 "metadata": {
  "kernelspec": {
   "display_name": "Python 3",
   "language": "python",
   "name": "python3"
  },
  "language_info": {
   "codemirror_mode": {
    "name": "ipython",
    "version": 3
   },
   "file_extension": ".py",
   "mimetype": "text/x-python",
   "name": "python",
   "nbconvert_exporter": "python",
   "pygments_lexer": "ipython3",
   "version": "3.7.4"
  }
 },
 "nbformat": 4,
 "nbformat_minor": 2
}
